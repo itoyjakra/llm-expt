{
 "cells": [
  {
   "cell_type": "code",
   "execution_count": null,
   "metadata": {},
   "outputs": [],
   "source": [
    "import boto3\n",
    "import json"
   ]
  },
  {
   "cell_type": "code",
   "execution_count": null,
   "metadata": {},
   "outputs": [],
   "source": [
    "br = boto3.client(\"bedrock\")\n",
    "brr = boto3.client(\"bedrock-runtime\")"
   ]
  },
  {
   "cell_type": "code",
   "execution_count": null,
   "metadata": {},
   "outputs": [],
   "source": [
    "resp = br.list_foundation_models()\n",
    "resp.keys()"
   ]
  },
  {
   "cell_type": "code",
   "execution_count": null,
   "metadata": {},
   "outputs": [],
   "source": [
    "len(resp['modelSummaries'])"
   ]
  },
  {
   "cell_type": "code",
   "execution_count": null,
   "metadata": {},
   "outputs": [],
   "source": [
    "for item in resp['modelSummaries']:\n",
    "    print(item['modelId'])"
   ]
  },
  {
   "cell_type": "code",
   "execution_count": null,
   "metadata": {},
   "outputs": [],
   "source": [
    "model = br.get_foundation_model(\n",
    "    modelIdentifier='anthropic.claude-v2:1'\n",
    ")"
   ]
  },
  {
   "cell_type": "code",
   "execution_count": null,
   "metadata": {},
   "outputs": [],
   "source": [
    "model"
   ]
  },
  {
   "cell_type": "code",
   "execution_count": null,
   "metadata": {},
   "outputs": [],
   "source": [
    "prompt = \"What is AWS Bedrock? If you don't know the answer, say so.\"\n",
    "\n",
    "response = brr.invoke_model(modelId=\"anthropic.claude-v2\", \n",
    "                    body= json.dumps(\n",
    "                    {\n",
    "                        \"prompt\": f\"\\n\\nHuman:  {prompt}  \\n\\nAssistant:\",\n",
    "                        \"max_tokens_to_sample\": 1000,\n",
    "                        \"temperature\": 0.0,\n",
    "                        # \"top_k\": self.top_k,\n",
    "                        # \"top_p\": self.top_p,\n",
    "                    }\n",
    "                    )\n",
    ")\n",
    "\n",
    "print(json.loads(response.get(\"body\").read()).get(\"completion\"))"
   ]
  },
  {
   "cell_type": "code",
   "execution_count": null,
   "metadata": {},
   "outputs": [],
   "source": []
  }
 ],
 "metadata": {
  "kernelspec": {
   "display_name": "llm",
   "language": "python",
   "name": "python3"
  },
  "language_info": {
   "codemirror_mode": {
    "name": "ipython",
    "version": 3
   },
   "file_extension": ".py",
   "mimetype": "text/x-python",
   "name": "python",
   "nbconvert_exporter": "python",
   "pygments_lexer": "ipython3",
   "version": "3.11.5"
  }
 },
 "nbformat": 4,
 "nbformat_minor": 2
}
